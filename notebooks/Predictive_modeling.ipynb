{
 "cells": [
  {
   "cell_type": "code",
   "execution_count": 23,
   "metadata": {
    "colab": {},
    "colab_type": "code",
    "id": "oOb08M-FPGzc"
   },
   "outputs": [],
   "source": [
    "import pandas as pd\n",
    "import os \n",
    "import numpy as np\n",
    "import seaborn as sns\n",
    "import matplotlib.pyplot as plt\n",
    "\n",
    "from sklearn.model_selection import train_test_split\n",
    "# performance metrics\n",
    "from sklearn.metrics import accuracy_score, confusion_matrix, precision_score, recall_score\n",
    "from sklearn.model_selection import KFold\n",
    "from sklearn.model_selection import StratifiedKFold\n",
    "from sklearn.metrics import confusion_matrix\n",
    "from sklearn.metrics import classification_report\n",
    "\n",
    "# Dummy Classifier\n",
    "from sklearn.dummy import DummyClassifier\n",
    "\n",
    "# Logistic Regression\n",
    "from sklearn.linear_model import LogisticRegression\n",
    "\n",
    "# XGBoost\n",
    "from xgboost import XGBClassifier\n",
    "\n",
    "# multilayer perceptron\n",
    "from sklearn.neural_network import MLPClassifier\n",
    "\n",
    "# model explanation\n",
    "from sklearn.metrics import roc_curve,roc_auc_score\n",
    "from sklearn.metrics import auc\n",
    "\n",
    "from sklearn.model_selection import RandomizedSearchCV\n",
    "from sklearn.model_selection import GridSearchCV\n",
    "from datetime import datetime\n",
    "\n",
    "# for warning ignore\n",
    "import warnings\n",
    "warnings.filterwarnings(\"ignore\")"
   ]
  },
  {
   "cell_type": "markdown",
   "metadata": {
    "colab_type": "text",
    "id": "KPq0Pn2-PG0C"
   },
   "source": [
    "### Importing the data"
   ]
  },
  {
   "cell_type": "code",
   "execution_count": 4,
   "metadata": {
    "colab": {
     "base_uri": "https://localhost:8080/",
     "height": 122
    },
    "colab_type": "code",
    "id": "1HOu55BmPG0E",
    "outputId": "e94bca2a-2c26-4b4f-c009-061caefb172a"
   },
   "outputs": [],
   "source": [
    "# setting the raw path\n",
    "processed_data_path = os.path.join(os.path.pardir,\"data\",\"processed\")\n",
    "train_file_path = os.path.join(processed_data_path,\"train.csv\")\n",
    "test_file_path = os.path.join(processed_data_path,\"test.csv\")"
   ]
  },
  {
   "cell_type": "code",
   "execution_count": 5,
   "metadata": {
    "colab": {},
    "colab_type": "code",
    "id": "f_0SWF7gPG0a"
   },
   "outputs": [],
   "source": [
    "X = pd.read_csv(train_file_path)\n",
    "y = pd.read_csv(test_file_path)"
   ]
  },
  {
   "cell_type": "code",
   "execution_count": 6,
   "metadata": {
    "colab": {
     "base_uri": "https://localhost:8080/",
     "height": 34
    },
    "colab_type": "code",
    "id": "xpkO-b4QPG0x",
    "outputId": "960a6f80-ba8b-4718-c1e3-b028a12f564b"
   },
   "outputs": [
    {
     "data": {
      "text/plain": [
       "(73096, 10)"
      ]
     },
     "execution_count": 6,
     "metadata": {},
     "output_type": "execute_result"
    }
   ],
   "source": [
    "X.shape"
   ]
  },
  {
   "cell_type": "code",
   "execution_count": 7,
   "metadata": {
    "colab": {
     "base_uri": "https://localhost:8080/",
     "height": 34
    },
    "colab_type": "code",
    "id": "Kkl0CEQNPG1V",
    "outputId": "25124652-ca36-40c3-fb1c-7dbe10eb40d4"
   },
   "outputs": [
    {
     "data": {
      "text/plain": [
       "(73096, 1)"
      ]
     },
     "execution_count": 7,
     "metadata": {},
     "output_type": "execute_result"
    }
   ],
   "source": [
    "y.shape"
   ]
  },
  {
   "cell_type": "markdown",
   "metadata": {
    "colab_type": "text",
    "id": "P_ftqIcuPG2H"
   },
   "source": [
    "### Splitting the data"
   ]
  },
  {
   "cell_type": "code",
   "execution_count": 8,
   "metadata": {
    "colab": {},
    "colab_type": "code",
    "id": "0otIgCdxPG2O"
   },
   "outputs": [],
   "source": [
    "X_train, X_test, y_train, y_test = train_test_split( X, y, test_size=0.1, random_state=0)"
   ]
  },
  {
   "cell_type": "code",
   "execution_count": 9,
   "metadata": {
    "colab": {
     "base_uri": "https://localhost:8080/",
     "height": 85
    },
    "colab_type": "code",
    "id": "soslr19LPG23",
    "outputId": "974e43fd-a99b-4b1b-8698-d7ac8611af01"
   },
   "outputs": [
    {
     "name": "stdout",
     "output_type": "stream",
     "text": [
      "Number transactions X_train dataset:  (65786, 10)\n",
      "Number transactions y_train dataset:  (65786, 1)\n",
      "Number transactions X_test dataset:  (7310, 10)\n",
      "Number transactions y_test dataset:  (7310, 1)\n"
     ]
    }
   ],
   "source": [
    "print(\"Number transactions X_train dataset: \", X_train.shape)\n",
    "print(\"Number transactions y_train dataset: \", y_train.shape)\n",
    "print(\"Number transactions X_test dataset: \", X_test.shape)\n",
    "print(\"Number transactions y_test dataset: \", y_test.shape)"
   ]
  },
  {
   "cell_type": "markdown",
   "metadata": {
    "colab_type": "text",
    "id": "xCGcxrO9PG3m"
   },
   "source": [
    "### Dummy model\n",
    "### Creating a dummy classifier\n",
    "A dummy classifier is a type of classifier which does not generate any insight about the data and classifies the given data using only simple rules. The classifier’s behavior is completely independent of the training data as the trends in the training data are completely ignored and instead uses one of the strategies to predict the class label.\n",
    "It is used only as a simple baseline for the other classifiers i.e. any other classifier is expected to perform better on the given dataset. It is especially useful for datasets where are sure of a class imbalance. It is based on the philosophy that any analytic approach for a classification problem should be better than a random guessing approach."
   ]
  },
  {
   "cell_type": "code",
   "execution_count": null,
   "metadata": {
    "colab": {},
    "colab_type": "code",
    "id": "HoFvg0fDPG37"
   },
   "outputs": [],
   "source": [
    "'''\n",
    "Below are a few strategies used by the dummy classifier to predict a class label –\n",
    "\n",
    "Most Frequent: The classifier always predicts the most frequent class label in the training data.\n",
    "Stratified: It generates predictions by respecting the class distribution of the training data. It is different from the “most frequent” strategy as it instead associates a probability with each data point of being the most frequent class label.\n",
    "Uniform: It generates predictions uniformly at random.\n",
    "\n",
    "'''\n",
    "strategies = ['most_frequent', 'stratified', 'uniform'] \n",
    "  \n",
    "test_scores = [] \n",
    "for s in strategies: \n",
    "    #if s =='constant': \n",
    "       # dclf = DummyClassifier(strategy = s, random_state = 0) \n",
    "    #else: \n",
    "    dclf = DummyClassifier(strategy = s, random_state = 0) \n",
    "    dclf.fit(X_train, y_train) \n",
    "    score = dclf.score(X_test, y_test) \n",
    "    test_scores.append(score) "
   ]
  },
  {
   "cell_type": "code",
   "execution_count": null,
   "metadata": {
    "colab": {
     "base_uri": "https://localhost:8080/",
     "height": 34
    },
    "colab_type": "code",
    "id": "IKhSjUliPG4N",
    "outputId": "7a31e9c5-0cdc-48b1-eb6b-0328d590aac9"
   },
   "outputs": [
    {
     "data": {
      "text/plain": [
       "[0.4807113543091655, 0.4987688098495212, 0.5175102599179207]"
      ]
     },
     "execution_count": 9,
     "metadata": {
      "tags": []
     },
     "output_type": "execute_result"
    }
   ],
   "source": [
    "test_scores"
   ]
  },
  {
   "cell_type": "code",
   "execution_count": null,
   "metadata": {
    "colab": {
     "base_uri": "https://localhost:8080/",
     "height": 34
    },
    "colab_type": "code",
    "id": "ZhxdGmWnPG4l",
    "outputId": "7633958b-f88f-43ca-bec3-029c4af0910c"
   },
   "outputs": [
    {
     "name": "stdout",
     "output_type": "stream",
     "text": [
      "accuracy for baseline model : 0.52\n"
     ]
    }
   ],
   "source": [
    "# accuracy score\n",
    "print('accuracy for baseline model : {0:.2f}'.format(accuracy_score(y_test, dclf.predict(X_test))))"
   ]
  },
  {
   "cell_type": "code",
   "execution_count": null,
   "metadata": {
    "colab": {
     "base_uri": "https://localhost:8080/",
     "height": 280
    },
    "colab_type": "code",
    "id": "JnLWekM8PG43",
    "outputId": "01c1bf3b-470d-4ef1-b659-6723ae38b0d9"
   },
   "outputs": [
    {
     "data": {
      "image/png": "[encoded data removed]",
      "text/plain": [
       "<Figure size 432x288 with 1 Axes>"
      ]
     },
     "metadata": {
      "needs_background": "light",
      "tags": []
     },
     "output_type": "display_data"
    }
   ],
   "source": [
    "ax = sns.stripplot(strategies, test_scores); \n",
    "ax.set(xlabel ='Strategy', ylabel ='Test Score') \n",
    "plt.show()"
   ]
  },
  {
   "cell_type": "markdown",
   "metadata": {
    "colab_type": "text",
    "id": "dqULm1VLPG5J"
   },
   "source": [
    "## Machine learning models"
   ]
  },
  {
   "cell_type": "markdown",
   "metadata": {
    "colab_type": "text",
    "id": "CTkF79BGPG5L"
   },
   "source": [
    "#### Defining the helper function for k-fold and stratified k-fold cross validation"
   ]
  },
  {
   "cell_type": "code",
   "execution_count": 10,
   "metadata": {
    "colab": {},
    "colab_type": "code",
    "id": "5lIBsC6amlGu"
   },
   "outputs": [],
   "source": [
    "# Defining the path to save the figures/plots.\n",
    "figures_data_path = os.path.join(os.path.pardir, 'reports','figures')"
   ]
  },
  {
   "cell_type": "code",
   "execution_count": 11,
   "metadata": {
    "colab": {},
    "colab_type": "code",
    "id": "THyznG7-PG5O"
   },
   "outputs": [],
   "source": [
    "kf = KFold(n_splits = 10, shuffle = True, random_state = 4)\n",
    "skf = StratifiedKFold(n_splits = 10, shuffle = True, random_state = 4)\n",
    "\n",
    "def model_classifier(model, X, y, cv):\n",
    "    \"\"\"\n",
    "    Creates folds manually, perform \n",
    "    Returns an array of validation (recall) scores\n",
    "    \"\"\"\n",
    "    scores = []\n",
    "    \n",
    "    \n",
    "    for train_index,test_index in cv.split(X,y):\n",
    "        X_train,X_test = X.loc[train_index],X.loc[test_index]\n",
    "        y_train,y_test = y.loc[train_index],y.loc[test_index]\n",
    "\n",
    "        # Fit the model on the training data\n",
    "        model_obj = model.fit(X_train, y_train)\n",
    "        y_pred = model_obj.predict(X_test)\n",
    "        y_pred_prob = model_obj.predict_proba(X_test)[:,1]\n",
    "        # Score the model on the validation data\n",
    "        score = accuracy_score(y_test, y_pred)\n",
    "        report = classification_report(y_test, y_pred)\n",
    "        conf_matrix = confusion_matrix(y_test, y_pred)\n",
    "        \n",
    "        scores.append(score)\n",
    "        mean_score = np.array(scores).mean()    \n",
    "\n",
    "    print('Accuracy scores of the model: {:.2f}'.format(mean_score))\n",
    "    print('\\n Classification report of the model')\n",
    "    print('--------------------------------------')\n",
    "    print(report)\n",
    "    \n",
    "    print('\\n Confusion Matrix of the model')\n",
    "    print('--------------------------------------')\n",
    "    print(conf_matrix)\n",
    "    \n",
    "    print(\"\\n ROC Curve\")\n",
    "    \n",
    "    logit_roc_auc = roc_auc_score(y_test, y_pred)\n",
    "    fpr, tpr, thresholds = roc_curve(y_test, y_pred_prob)\n",
    "    plt.figure()\n",
    "    val_model = input(\"Enter your model name: \")\n",
    "    plt.plot(fpr, tpr, label= val_model + ' (area = %0.2f)' % logit_roc_auc)\n",
    "    plt.plot([0, 1], [0, 1],'r--')\n",
    "    plt.xlim([0.0, 1.0])\n",
    "    plt.ylim([0.0, 1.05])\n",
    "    plt.xlabel('False Positive Rate')\n",
    "    plt.ylabel('True Positive Rate')\n",
    "    plt.title('Receiver operating characteristic')\n",
    "    plt.legend(loc=\"lower right\")\n",
    "    my_fig = val_model + '.png'\n",
    "    plt.savefig(os.path.join(figures_data_path, my_fig))\n",
    "    plt.show()"
   ]
  },
  {
   "cell_type": "markdown",
   "metadata": {
    "colab_type": "text",
    "id": "Z0AfJowaPG5q"
   },
   "source": [
    "### Logistic regression model\n",
    "\n"
   ]
  },
  {
   "cell_type": "code",
   "execution_count": 12,
   "metadata": {
    "colab": {},
    "colab_type": "code",
    "id": "q_V655hvPG5s"
   },
   "outputs": [],
   "source": [
    "# instantiating the model;\n",
    "logregression = LogisticRegression()"
   ]
  },
  {
   "cell_type": "markdown",
   "metadata": {
    "colab_type": "text",
    "id": "MqHwKpMt6LJf"
   },
   "source": [
    "#### 1. Using k-fold.\n",
    "Overview:\n",
    "The k-fold cross-validation procedure involves splitting the training dataset into k folds. The first k-1 folds are used to train a model, and the holdout kth fold is used as the test set. This process is repeated and each of the folds is given an opportunity to be used as the holdout test set. A total of k models are fit and evaluated, and the performance of the model is calculated as the mean of these runs."
   ]
  },
  {
   "cell_type": "code",
   "execution_count": 13,
   "metadata": {
    "colab": {
     "base_uri": "https://localhost:8080/",
     "height": 652
    },
    "colab_type": "code",
    "id": "4aqIHBzy6Acw",
    "outputId": "0ebc8348-1175-4df5-b158-982405738468"
   },
   "outputs": [
    {
     "name": "stdout",
     "output_type": "stream",
     "text": [
      "Accuracy scores of the model: 0.73\n",
      "\n",
      " Classification report of the model\n",
      "--------------------------------------\n",
      "              precision    recall  f1-score   support\n",
      "\n",
      "           0       0.70      0.78      0.74      3636\n",
      "           1       0.75      0.67      0.71      3673\n",
      "\n",
      "    accuracy                           0.73      7309\n",
      "   macro avg       0.73      0.73      0.72      7309\n",
      "weighted avg       0.73      0.73      0.72      7309\n",
      "\n",
      "\n",
      " Confusion Matrix of the model\n",
      "--------------------------------------\n",
      "[[2825  811]\n",
      " [1195 2478]]\n",
      "\n",
      " ROC Curve\n"
     ]
    },
    {
     "name": "stdin",
     "output_type": "stream",
     "text": [
      "Enter your model name:  Logistic_regression_kf\n"
     ]
    },
    {
     "data": {
      "image/png": "[encoded data removed]",
      "text/plain": [
       "<Figure size 432x288 with 1 Axes>"
      ]
     },
     "metadata": {
      "needs_background": "light"
     },
     "output_type": "display_data"
    }
   ],
   "source": [
    "model_classifier(logregression, X, y,kf)"
   ]
  },
  {
   "cell_type": "markdown",
   "metadata": {
    "colab_type": "text",
    "id": "5F3Z0UyP6ZK0"
   },
   "source": [
    "## 2. Stratified k-fold validation\n",
    "Overview; This is the modified k-fold cross-validation and train-test splits can be used to preserve the class distribution in the dataset."
   ]
  },
  {
   "cell_type": "code",
   "execution_count": 14,
   "metadata": {
    "colab": {
     "base_uri": "https://localhost:8080/",
     "height": 652
    },
    "colab_type": "code",
    "id": "kxFsXFAkPG6A",
    "outputId": "585f4633-776d-4c42-bc45-ae045b384df8"
   },
   "outputs": [
    {
     "name": "stdout",
     "output_type": "stream",
     "text": [
      "Accuracy scores of the model: 0.73\n",
      "\n",
      " Classification report of the model\n",
      "--------------------------------------\n",
      "              precision    recall  f1-score   support\n",
      "\n",
      "           0       0.71      0.79      0.75      3654\n",
      "           1       0.76      0.68      0.72      3655\n",
      "\n",
      "    accuracy                           0.73      7309\n",
      "   macro avg       0.74      0.73      0.73      7309\n",
      "weighted avg       0.74      0.73      0.73      7309\n",
      "\n",
      "\n",
      " Confusion Matrix of the model\n",
      "--------------------------------------\n",
      "[[2873  781]\n",
      " [1172 2483]]\n",
      "\n",
      " ROC Curve\n"
     ]
    },
    {
     "name": "stdin",
     "output_type": "stream",
     "text": [
      "Enter your model name:  Logistic_regression_skf\n"
     ]
    },
    {
     "data": {
      "image/png": "[encoded data removed]",
      "text/plain": [
       "<Figure size 432x288 with 1 Axes>"
      ]
     },
     "metadata": {
      "needs_background": "light"
     },
     "output_type": "display_data"
    }
   ],
   "source": [
    "model_classifier(logregression, X, y,skf)"
   ]
  },
  {
   "cell_type": "markdown",
   "metadata": {
    "colab_type": "text",
    "id": "SML6X9gzNEYx"
   },
   "source": [
    "Hyperparameter Optimization:logistic regression"
   ]
  },
  {
   "cell_type": "code",
   "execution_count": 68,
   "metadata": {
    "colab": {
     "base_uri": "https://localhost:8080/",
     "height": 652
    },
    "colab_type": "code",
    "id": "AGe_Bk6INFhI",
    "outputId": "2a79b328-bc2e-4a42-c97c-071f28b39ff2"
   },
   "outputs": [
    {
     "name": "stdout",
     "output_type": "stream",
     "text": [
      "Accuracy scores of the model: 0.73\n",
      "\n",
      " Classification report of the model\n",
      "--------------------------------------\n",
      "              precision    recall  f1-score   support\n",
      "\n",
      "           0       0.71      0.79      0.75      3654\n",
      "           1       0.76      0.68      0.72      3655\n",
      "\n",
      "    accuracy                           0.73      7309\n",
      "   macro avg       0.74      0.73      0.73      7309\n",
      "weighted avg       0.74      0.73      0.73      7309\n",
      "\n",
      "\n",
      " Confusion Matrix of the model\n",
      "--------------------------------------\n",
      "[[2873  781]\n",
      " [1172 2483]]\n",
      "\n",
      " ROC Curve\n",
      "Enter your model name: log_reg_cv\n"
     ]
    },
    {
     "data": {
      "image/png": "[encoded data removed]",
      "text/plain": [
       "<Figure size 432x288 with 1 Axes>"
      ]
     },
     "metadata": {
      "needs_background": "light",
      "tags": []
     },
     "output_type": "display_data"
    }
   ],
   "source": [
    "lr_hyp = LogisticRegression()\n",
    "\n",
    "# regularization penalty space\n",
    "penalty = ['l1', 'l2']\n",
    "\n",
    "# regularization hyperparameter space\n",
    "C = np.logspace(0, 4, 10)\n",
    "\n",
    "# hyperparameter options\n",
    "param_grid = dict(C=C, penalty=penalty)\n",
    "\n",
    "log_reg_cv = GridSearchCV(lr_hyp, param_grid, verbose=0)\n",
    "\n",
    "model_classifier(log_reg_cv, X, y, skf)\n",
    "\n",
    "'''\n",
    "lr_hyp = LogisticRegression()\n",
    "\n",
    "# regularization penalty space\n",
    "penalty = ['l1','l2']\n",
    "solver = ['liblinear', 'saga']\n",
    "\n",
    "# regularization hyperparameter space\n",
    "#C = np.logspace(0, 4, 10)\n",
    "C = np.logspace(0, 4, num=10)\n",
    "\n",
    "# hyperparameter options\n",
    "param_grid = dict(C=C, penalty=penalty, solver=solver)\n",
    "\n",
    "log_reg_cv = RandomizedSearchCV(lr_hyp, param_grid)\n",
    "\n",
    "model_classifier(log_reg_cv, X, y, kf)\n",
    "'''\n"
   ]
  },
  {
   "cell_type": "markdown",
   "metadata": {
    "colab_type": "text",
    "id": "EmrLj6t5PG9G"
   },
   "source": [
    "In our case since we had tackled class imbalance, the is no much difference noted in the accuracy score gotten by using the k-fold classification and using stratified k-fold cross validation."
   ]
  },
  {
   "cell_type": "markdown",
   "metadata": {
    "colab_type": "text",
    "id": "S3rrV3dIPG9I"
   },
   "source": [
    "#### Confusion Matrix\n",
    "he diagonal elements represent the number of points for which the predicted label is equal to the true label, while off-diagonal elements are those that are mislabeled by the classifier. The higher the diagonal values of the confusion matrix the better, indicating many correct predictions."
   ]
  },
  {
   "cell_type": "markdown",
   "metadata": {
    "colab_type": "text",
    "id": "BQ-aSL1DPG9s"
   },
   "source": [
    "### classification_report\n",
    "#### F1 score\n",
    "\n",
    "A measurement that considers both precision and recall to compute the score. The F1 score can be interpreted as a weighted average of the precision and recall values, where an F1 score reaches its best value at 1 and worst value at 0"
   ]
  },
  {
   "cell_type": "markdown",
   "metadata": {
    "colab_type": "text",
    "id": "jR-9h1o5PG99"
   },
   "source": [
    "Out of all the classes, 72 % of our data was predicted correctly."
   ]
  },
  {
   "cell_type": "markdown",
   "metadata": {
    "colab_type": "text",
    "id": "IJsCNhPSPG-C"
   },
   "source": [
    "**ROC Curve:**\n",
    "\n",
    "The ROC curve shows the trade-off between sensitivity (or TPR) and specificity (1 – FPR). Classifiers that give curves closer to the top-left corner indicate a better performance"
   ]
  },
  {
   "cell_type": "markdown",
   "metadata": {
    "colab_type": "text",
    "id": "6Axwd32UPG-W"
   },
   "source": [
    "The closer the curve comes to the 45-degree diagonal of the ROC space, the less accurate the test. In our case it is far away and therefore we can conclude that test is a bit accurate."
   ]
  },
  {
   "cell_type": "markdown",
   "metadata": {
    "colab_type": "text",
    "id": "iR6I4P_p8Xr7"
   },
   "source": [
    "**XGBoost Model**"
   ]
  },
  {
   "cell_type": "code",
   "execution_count": 15,
   "metadata": {
    "colab": {},
    "colab_type": "code",
    "id": "jsTOlta_PG-a"
   },
   "outputs": [],
   "source": [
    "#instantiating the model\n",
    "xgb_regressor = XGBClassifier()"
   ]
  },
  {
   "cell_type": "markdown",
   "metadata": {
    "colab_type": "text",
    "id": "WRjr2cq_8esT"
   },
   "source": [
    "XGBoost using k-fold cross validation"
   ]
  },
  {
   "cell_type": "code",
   "execution_count": 16,
   "metadata": {
    "colab": {
     "base_uri": "https://localhost:8080/",
     "height": 652
    },
    "colab_type": "code",
    "id": "A23JjudTPG-s",
    "outputId": "c6cdd4fa-f036-471d-a014-7fccd2d0f4f8"
   },
   "outputs": [
    {
     "name": "stdout",
     "output_type": "stream",
     "text": [
      "Accuracy scores of the model: 0.84\n",
      "\n",
      " Classification report of the model\n",
      "--------------------------------------\n",
      "              precision    recall  f1-score   support\n",
      "\n",
      "           0       0.82      0.87      0.85      3636\n",
      "           1       0.87      0.82      0.84      3673\n",
      "\n",
      "    accuracy                           0.84      7309\n",
      "   macro avg       0.84      0.84      0.84      7309\n",
      "weighted avg       0.84      0.84      0.84      7309\n",
      "\n",
      "\n",
      " Confusion Matrix of the model\n",
      "--------------------------------------\n",
      "[[3169  467]\n",
      " [ 675 2998]]\n",
      "\n",
      " ROC Curve\n"
     ]
    },
    {
     "name": "stdin",
     "output_type": "stream",
     "text": [
      "Enter your model name:  XGBoost_classifier_kf\n"
     ]
    },
    {
     "data": {
      "image/png": "[encoded data removed]",
      "text/plain": [
       "<Figure size 432x288 with 1 Axes>"
      ]
     },
     "metadata": {
      "needs_background": "light"
     },
     "output_type": "display_data"
    }
   ],
   "source": [
    "model_classifier(xgb_regressor,X,y,kf)"
   ]
  },
  {
   "cell_type": "markdown",
   "metadata": {
    "colab_type": "text",
    "id": "b45dockU8vDW"
   },
   "source": [
    "XGBoost using stratified k-fold cross validation"
   ]
  },
  {
   "cell_type": "code",
   "execution_count": 17,
   "metadata": {
    "colab": {
     "base_uri": "https://localhost:8080/",
     "height": 652
    },
    "colab_type": "code",
    "id": "8Wnr-omfPG-6",
    "outputId": "f7f93457-a896-4260-96f2-358ff8ba5688"
   },
   "outputs": [
    {
     "name": "stdout",
     "output_type": "stream",
     "text": [
      "Accuracy scores of the model: 0.85\n",
      "\n",
      " Classification report of the model\n",
      "--------------------------------------\n",
      "              precision    recall  f1-score   support\n",
      "\n",
      "           0       0.83      0.88      0.85      3654\n",
      "           1       0.87      0.82      0.84      3655\n",
      "\n",
      "    accuracy                           0.85      7309\n",
      "   macro avg       0.85      0.85      0.85      7309\n",
      "weighted avg       0.85      0.85      0.85      7309\n",
      "\n",
      "\n",
      " Confusion Matrix of the model\n",
      "--------------------------------------\n",
      "[[3209  445]\n",
      " [ 656 2999]]\n",
      "\n",
      " ROC Curve\n"
     ]
    },
    {
     "name": "stdin",
     "output_type": "stream",
     "text": [
      "Enter your model name:  XGBoost_classifier_skf\n"
     ]
    },
    {
     "data": {
      "image/png": "[encoded data removed]",
      "text/plain": [
       "<Figure size 432x288 with 1 Axes>"
      ]
     },
     "metadata": {
      "needs_background": "light"
     },
     "output_type": "display_data"
    }
   ],
   "source": [
    "model_classifier(xgb_regressor,X,y,skf)"
   ]
  },
  {
   "cell_type": "markdown",
   "metadata": {},
   "source": [
    "### XGBoost Hyperparameter tuning"
   ]
  },
  {
   "cell_type": "code",
   "execution_count": 25,
   "metadata": {},
   "outputs": [],
   "source": [
    "def timer(start_time=None):\n",
    "    if not start_time:\n",
    "        start_time = datetime.now()\n",
    "        return start_time\n",
    "    elif start_time:\n",
    "        thour, temp_sec = divmod((datetime.now() - start_time).total_seconds(), 3600)\n",
    "        tmin, tsec = divmod(temp_sec, 60)\n",
    "        print('\\n Time taken: %i hours %i minutes and %s seconds.' % (thour, tmin, round(tsec, 2)))"
   ]
  },
  {
   "cell_type": "code",
   "execution_count": null,
   "metadata": {},
   "outputs": [],
   "source": [
    "\n",
    "# A parameter grid for XGBoost\n",
    "params = {\n",
    "        'min_child_weight': [1, 5, 10],\n",
    "        'gamma': [0.5, 1, 1.5, 2, 5],\n",
    "        'subsample': [0.6, 0.8, 1.0],\n",
    "        'colsample_bytree': [0.6, 0.8, 1.0],\n",
    "        'max_depth': [3, 4, 5]\n",
    "        }"
   ]
  },
  {
   "cell_type": "code",
   "execution_count": null,
   "metadata": {},
   "outputs": [],
   "source": [
    "xgb_hyp = XGBClassifier()"
   ]
  },
  {
   "cell_type": "code",
   "execution_count": null,
   "metadata": {},
   "outputs": [],
   "source": [
    "xgb_random_search = RandomizedSearchCV(xgb_hyp, param_distributions=params, n_iter=5, scoring='roc_auc', n_jobs=-1, cv=10, verbose=3)\n"
   ]
  },
  {
   "cell_type": "code",
   "execution_count": null,
   "metadata": {},
   "outputs": [],
   "source": [
    "start_time = timer(None) # timing starts from this point for \"start_time\" variable\n",
    "xgb_random_search.fit(X, y)\n",
    "timer(start_time)"
   ]
  },
  {
   "cell_type": "code",
   "execution_count": null,
   "metadata": {},
   "outputs": [],
   "source": [
    "xgb_random_search.best_estimator_"
   ]
  },
  {
   "cell_type": "code",
   "execution_count": null,
   "metadata": {},
   "outputs": [],
   "source": [
    "xgb_random_search.best_params_"
   ]
  },
  {
   "cell_type": "code",
   "execution_count": null,
   "metadata": {},
   "outputs": [],
   "source": [
    "xgb_tuned = XGBClassifier(base_score=0.5, booster='gbtree', colsample_bylevel=1,\n",
    "              colsample_bynode=1, colsample_bytree=0.6, gamma=0.5,\n",
    "              learning_rate=0.1, max_delta_step=0, max_depth=5,\n",
    "              min_child_weight=10, missing=None, n_estimators=100, n_jobs=1,\n",
    "              nthread=None, objective='binary:logistic', random_state=0,\n",
    "              reg_alpha=0, reg_lambda=1, scale_pos_weight=1, seed=None,\n",
    "              silent=None, subsample=0.6, verbosity=1)\n",
    "\n",
    "model_classifier(xgb_tuned,X,y,skf)"
   ]
  },
  {
   "cell_type": "markdown",
   "metadata": {
    "colab_type": "text",
    "id": "ef6XftWfIkMm"
   },
   "source": [
    "### MLP\n",
    "Definition - What does Multilayer Perceptron (MLP) mean?\n",
    "A multilayer perceptron (MLP) is a feedforward artificial neural network that generates a set of outputs from a set of inputs. An MLP is characterized by several layers of input nodes connected as a directed graph between the input and output layers. MLP uses backpropogation for training the network. MLP is a deep learning method."
   ]
  },
  {
   "cell_type": "code",
   "execution_count": 18,
   "metadata": {
    "colab": {},
    "colab_type": "code",
    "id": "4CHjYDOkGG0F"
   },
   "outputs": [],
   "source": [
    "mlp = MLPClassifier()"
   ]
  },
  {
   "cell_type": "markdown",
   "metadata": {
    "colab_type": "text",
    "id": "DRY18nTFJXnr"
   },
   "source": [
    "MLP using K-fold cv"
   ]
  },
  {
   "cell_type": "code",
   "execution_count": 19,
   "metadata": {
    "colab": {
     "base_uri": "https://localhost:8080/",
     "height": 652
    },
    "colab_type": "code",
    "id": "vFdu2GNDJVg7",
    "outputId": "de8baf67-a6f6-4213-bb1b-b2b888bc6855"
   },
   "outputs": [
    {
     "name": "stdout",
     "output_type": "stream",
     "text": [
      "Accuracy scores of the model: 0.75\n",
      "\n",
      " Classification report of the model\n",
      "--------------------------------------\n",
      "              precision    recall  f1-score   support\n",
      "\n",
      "           0       0.71      0.85      0.78      3636\n",
      "           1       0.82      0.66      0.73      3673\n",
      "\n",
      "    accuracy                           0.75      7309\n",
      "   macro avg       0.76      0.75      0.75      7309\n",
      "weighted avg       0.76      0.75      0.75      7309\n",
      "\n",
      "\n",
      " Confusion Matrix of the model\n",
      "--------------------------------------\n",
      "[[3097  539]\n",
      " [1257 2416]]\n",
      "\n",
      " ROC Curve\n"
     ]
    },
    {
     "name": "stdin",
     "output_type": "stream",
     "text": [
      "Enter your model name:  MLP_classifier_kf\n"
     ]
    },
    {
     "data": {
      "image/png": "[encoded data removed]",
      "text/plain": [
       "<Figure size 432x288 with 1 Axes>"
      ]
     },
     "metadata": {
      "needs_background": "light"
     },
     "output_type": "display_data"
    }
   ],
   "source": [
    "model_classifier(mlp,X,y,kf)"
   ]
  },
  {
   "cell_type": "markdown",
   "metadata": {
    "colab_type": "text",
    "id": "QtBM7eTuJsLH"
   },
   "source": [
    "MLP using stratified k-fold cv"
   ]
  },
  {
   "cell_type": "code",
   "execution_count": 20,
   "metadata": {
    "colab": {
     "base_uri": "https://localhost:8080/",
     "height": 652
    },
    "colab_type": "code",
    "id": "918mYumBJVwE",
    "outputId": "9086ea38-6fb9-4f39-8749-3557db072d9d"
   },
   "outputs": [
    {
     "name": "stdout",
     "output_type": "stream",
     "text": [
      "Accuracy scores of the model: 0.75\n",
      "\n",
      " Classification report of the model\n",
      "--------------------------------------\n",
      "              precision    recall  f1-score   support\n",
      "\n",
      "           0       0.72      0.85      0.78      3654\n",
      "           1       0.81      0.66      0.73      3655\n",
      "\n",
      "    accuracy                           0.76      7309\n",
      "   macro avg       0.76      0.76      0.75      7309\n",
      "weighted avg       0.76      0.76      0.75      7309\n",
      "\n",
      "\n",
      " Confusion Matrix of the model\n",
      "--------------------------------------\n",
      "[[3095  559]\n",
      " [1231 2424]]\n",
      "\n",
      " ROC Curve\n"
     ]
    },
    {
     "name": "stdin",
     "output_type": "stream",
     "text": [
      "Enter your model name:  MLP_Classifier_skf\n"
     ]
    },
    {
     "data": {
      "image/png": "[encoded data removed]",
      "text/plain": [
       "<Figure size 432x288 with 1 Axes>"
      ]
     },
     "metadata": {
      "needs_background": "light"
     },
     "output_type": "display_data"
    }
   ],
   "source": [
    "model_classifier(mlp,X,y,skf)"
   ]
  },
  {
   "cell_type": "markdown",
   "metadata": {},
   "source": [
    "### Hyperparameter tuning for Multilayer perceptron"
   ]
  },
  {
   "cell_type": "code",
   "execution_count": 26,
   "metadata": {},
   "outputs": [
    {
     "name": "stdout",
     "output_type": "stream",
     "text": [
      "\n",
      " Time taken: 5 hours 3 minutes and 3.4 seconds.\n"
     ]
    }
   ],
   "source": [
    "parameter_space = {\n",
    "    'hidden_layer_sizes': [(10,30,10),(20,)],\n",
    "    'activation': ['tanh', 'relu'],\n",
    "    'solver': ['sgd', 'adam'],\n",
    "    'alpha': [0.0001, 0.05],\n",
    "    'learning_rate': ['constant','adaptive'],\n",
    "}\n",
    "mlp_hyp = MLPClassifier()\n",
    "randomized_mlp = RandomizedSearchCV(mlp_hyp, parameter_space, n_jobs=-1, cv=10)\n",
    "start_time = timer(None) # timing starts from this point for \"start_time\" variable\n",
    "randomized_mlp.fit(X, y)\n",
    "timer(start_time) "
   ]
  },
  {
   "cell_type": "code",
   "execution_count": 27,
   "metadata": {},
   "outputs": [
    {
     "data": {
      "text/plain": [
       "MLPClassifier(alpha=0.05, hidden_layer_sizes=(20,), learning_rate='adaptive',\n",
       "              solver='sgd')"
      ]
     },
     "execution_count": 27,
     "metadata": {},
     "output_type": "execute_result"
    }
   ],
   "source": [
    "randomized_mlp.best_estimator_"
   ]
  },
  {
   "cell_type": "code",
   "execution_count": 28,
   "metadata": {},
   "outputs": [
    {
     "data": {
      "text/plain": [
       "{'solver': 'sgd',\n",
       " 'learning_rate': 'adaptive',\n",
       " 'hidden_layer_sizes': (20,),\n",
       " 'alpha': 0.05,\n",
       " 'activation': 'relu'}"
      ]
     },
     "execution_count": 28,
     "metadata": {},
     "output_type": "execute_result"
    }
   ],
   "source": [
    "randomized_mlp.best_params_"
   ]
  },
  {
   "cell_type": "code",
   "execution_count": 29,
   "metadata": {},
   "outputs": [
    {
     "name": "stdout",
     "output_type": "stream",
     "text": [
      "Accuracy scores of the model: 0.74\n",
      "\n",
      " Classification report of the model\n",
      "--------------------------------------\n",
      "              precision    recall  f1-score   support\n",
      "\n",
      "           0       0.71      0.82      0.76      3654\n",
      "           1       0.79      0.66      0.72      3655\n",
      "\n",
      "    accuracy                           0.74      7309\n",
      "   macro avg       0.75      0.74      0.74      7309\n",
      "weighted avg       0.75      0.74      0.74      7309\n",
      "\n",
      "\n",
      " Confusion Matrix of the model\n",
      "--------------------------------------\n",
      "[[3012  642]\n",
      " [1248 2407]]\n",
      "\n",
      " ROC Curve\n"
     ]
    },
    {
     "name": "stdin",
     "output_type": "stream",
     "text": [
      "Enter your model name:  mlp_tuned_skf\n"
     ]
    },
    {
     "data": {
      "image/png": "[encoded data removed]",
      "text/plain": [
       "<Figure size 432x288 with 1 Axes>"
      ]
     },
     "metadata": {
      "needs_background": "light"
     },
     "output_type": "display_data"
    }
   ],
   "source": [
    "mlp_tuned = MLPClassifier(alpha=0.05, hidden_layer_sizes=(20,), learning_rate='adaptive',\n",
    "              solver='sgd')\n",
    "model_classifier(mlp_tuned,X,y,skf)"
   ]
  },
  {
   "cell_type": "markdown",
   "metadata": {
    "colab_type": "text",
    "id": "UiBVjBqg-cjw"
   },
   "source": [
    "### Support Vector Machine Model;\n",
    "The objective of the support vector machine algorithm is to find a hyperplane in an N-dimensional space(N — the number of features) that distinctly classifies the data points."
   ]
  },
  {
   "cell_type": "code",
   "execution_count": 50,
   "metadata": {
    "colab": {},
    "colab_type": "code",
    "id": "ZKPs6ub585oE"
   },
   "outputs": [],
   "source": [
    "from sklearn.svm import SVC\n",
    "best_svr = SVR(kernel='rbf')"
   ]
  },
  {
   "cell_type": "markdown",
   "metadata": {
    "colab_type": "text",
    "id": "1u3bmPuj-sBm"
   },
   "source": [
    "SVM using stratified k-fold cross validation"
   ]
  },
  {
   "cell_type": "code",
   "execution_count": 51,
   "metadata": {
    "colab": {
     "base_uri": "https://localhost:8080/",
     "height": 306
    },
    "colab_type": "code",
    "id": "S9iAxGmu-G7k",
    "outputId": "08907cc8-9b82-4055-ffd1-acd1bb94e732"
   },
   "outputs": [
    {
     "ename": "ValueError",
     "evalue": "ignored",
     "output_type": "error",
     "traceback": [
      "\u001b[0;31m---------------------------------------------------------------------------\u001b[0m",
      "\u001b[0;31mValueError\u001b[0m                                Traceback (most recent call last)",
      "\u001b[0;32m<ipython-input-51-b2ca11f5a172>\u001b[0m in \u001b[0;36m<module>\u001b[0;34m()\u001b[0m\n\u001b[0;32m----> 1\u001b[0;31m \u001b[0mmodel_classifier\u001b[0m\u001b[0;34m(\u001b[0m\u001b[0mbest_svr\u001b[0m\u001b[0;34m,\u001b[0m\u001b[0mX\u001b[0m\u001b[0;34m,\u001b[0m\u001b[0my\u001b[0m\u001b[0;34m,\u001b[0m\u001b[0mskf\u001b[0m\u001b[0;34m)\u001b[0m\u001b[0;34m\u001b[0m\u001b[0;34m\u001b[0m\u001b[0m\n\u001b[0m",
      "\u001b[0;32m<ipython-input-43-7bc45cecdf03>\u001b[0m in \u001b[0;36mmodel_classifier\u001b[0;34m(model, X, y, cv)\u001b[0m\n\u001b[1;32m     25\u001b[0m         \u001b[0my_pred\u001b[0m \u001b[0;34m=\u001b[0m \u001b[0mmodel_obj\u001b[0m\u001b[0;34m.\u001b[0m\u001b[0mpredict\u001b[0m\u001b[0;34m(\u001b[0m\u001b[0mX_test\u001b[0m\u001b[0;34m)\u001b[0m\u001b[0;34m\u001b[0m\u001b[0;34m\u001b[0m\u001b[0m\n\u001b[1;32m     26\u001b[0m         \u001b[0;31m# Score the model on the validation data\u001b[0m\u001b[0;34m\u001b[0m\u001b[0;34m\u001b[0m\u001b[0;34m\u001b[0m\u001b[0m\n\u001b[0;32m---> 27\u001b[0;31m         \u001b[0mscore\u001b[0m \u001b[0;34m=\u001b[0m \u001b[0maccuracy_score\u001b[0m\u001b[0;34m(\u001b[0m\u001b[0my_test\u001b[0m\u001b[0;34m,\u001b[0m \u001b[0my_pred\u001b[0m\u001b[0;34m)\u001b[0m\u001b[0;34m\u001b[0m\u001b[0;34m\u001b[0m\u001b[0m\n\u001b[0m\u001b[1;32m     28\u001b[0m         \u001b[0mreport\u001b[0m \u001b[0;34m=\u001b[0m \u001b[0mclassification_report\u001b[0m\u001b[0;34m(\u001b[0m\u001b[0my_test\u001b[0m\u001b[0;34m,\u001b[0m \u001b[0my_pred\u001b[0m\u001b[0;34m)\u001b[0m\u001b[0;34m\u001b[0m\u001b[0;34m\u001b[0m\u001b[0m\n\u001b[1;32m     29\u001b[0m         \u001b[0mconf_matrix\u001b[0m \u001b[0;34m=\u001b[0m \u001b[0mconfusion_matrix\u001b[0m\u001b[0;34m(\u001b[0m\u001b[0my_test\u001b[0m\u001b[0;34m,\u001b[0m \u001b[0my_pred\u001b[0m\u001b[0;34m)\u001b[0m\u001b[0;34m\u001b[0m\u001b[0;34m\u001b[0m\u001b[0m\n",
      "\u001b[0;32m/usr/local/lib/python3.6/dist-packages/sklearn/metrics/_classification.py\u001b[0m in \u001b[0;36maccuracy_score\u001b[0;34m(y_true, y_pred, normalize, sample_weight)\u001b[0m\n\u001b[1;32m    183\u001b[0m \u001b[0;34m\u001b[0m\u001b[0m\n\u001b[1;32m    184\u001b[0m     \u001b[0;31m# Compute accuracy for each possible representation\u001b[0m\u001b[0;34m\u001b[0m\u001b[0;34m\u001b[0m\u001b[0;34m\u001b[0m\u001b[0m\n\u001b[0;32m--> 185\u001b[0;31m     \u001b[0my_type\u001b[0m\u001b[0;34m,\u001b[0m \u001b[0my_true\u001b[0m\u001b[0;34m,\u001b[0m \u001b[0my_pred\u001b[0m \u001b[0;34m=\u001b[0m \u001b[0m_check_targets\u001b[0m\u001b[0;34m(\u001b[0m\u001b[0my_true\u001b[0m\u001b[0;34m,\u001b[0m \u001b[0my_pred\u001b[0m\u001b[0;34m)\u001b[0m\u001b[0;34m\u001b[0m\u001b[0;34m\u001b[0m\u001b[0m\n\u001b[0m\u001b[1;32m    186\u001b[0m     \u001b[0mcheck_consistent_length\u001b[0m\u001b[0;34m(\u001b[0m\u001b[0my_true\u001b[0m\u001b[0;34m,\u001b[0m \u001b[0my_pred\u001b[0m\u001b[0;34m,\u001b[0m \u001b[0msample_weight\u001b[0m\u001b[0;34m)\u001b[0m\u001b[0;34m\u001b[0m\u001b[0;34m\u001b[0m\u001b[0m\n\u001b[1;32m    187\u001b[0m     \u001b[0;32mif\u001b[0m \u001b[0my_type\u001b[0m\u001b[0;34m.\u001b[0m\u001b[0mstartswith\u001b[0m\u001b[0;34m(\u001b[0m\u001b[0;34m'multilabel'\u001b[0m\u001b[0;34m)\u001b[0m\u001b[0;34m:\u001b[0m\u001b[0;34m\u001b[0m\u001b[0;34m\u001b[0m\u001b[0m\n",
      "\u001b[0;32m/usr/local/lib/python3.6/dist-packages/sklearn/metrics/_classification.py\u001b[0m in \u001b[0;36m_check_targets\u001b[0;34m(y_true, y_pred)\u001b[0m\n\u001b[1;32m     88\u001b[0m     \u001b[0;32mif\u001b[0m \u001b[0mlen\u001b[0m\u001b[0;34m(\u001b[0m\u001b[0my_type\u001b[0m\u001b[0;34m)\u001b[0m \u001b[0;34m>\u001b[0m \u001b[0;36m1\u001b[0m\u001b[0;34m:\u001b[0m\u001b[0;34m\u001b[0m\u001b[0;34m\u001b[0m\u001b[0m\n\u001b[1;32m     89\u001b[0m         raise ValueError(\"Classification metrics can't handle a mix of {0} \"\n\u001b[0;32m---> 90\u001b[0;31m                          \"and {1} targets\".format(type_true, type_pred))\n\u001b[0m\u001b[1;32m     91\u001b[0m \u001b[0;34m\u001b[0m\u001b[0m\n\u001b[1;32m     92\u001b[0m     \u001b[0;31m# We can't have more than one value on y_type => The set is no more needed\u001b[0m\u001b[0;34m\u001b[0m\u001b[0;34m\u001b[0m\u001b[0;34m\u001b[0m\u001b[0m\n",
      "\u001b[0;31mValueError\u001b[0m: Classification metrics can't handle a mix of binary and continuous targets"
     ]
    }
   ],
   "source": [
    "model_classifier(best_svr,X,y,skf)"
   ]
  },
  {
   "cell_type": "markdown",
   "metadata": {
    "colab_type": "text",
    "id": "j4QStF7s_KZ7"
   },
   "source": [
    "SVM using k-fold cross validation"
   ]
  },
  {
   "cell_type": "code",
   "execution_count": null,
   "metadata": {
    "colab": {},
    "colab_type": "code",
    "id": "EPmF18nM-0U6"
   },
   "outputs": [],
   "source": [
    "model_classifier(best_svr,X,y,kf)"
   ]
  },
  {
   "cell_type": "code",
   "execution_count": null,
   "metadata": {
    "colab": {},
    "colab_type": "code",
    "id": "ui8gCYv1_Qu3"
   },
   "outputs": [],
   "source": []
  },
  {
   "cell_type": "code",
   "execution_count": null,
   "metadata": {
    "colab": {},
    "colab_type": "code",
    "id": "nX4H36iV_QrG"
   },
   "outputs": [],
   "source": []
  }
 ],
 "metadata": {
  "colab": {
   "name": "Predictive modeling.ipynb",
   "provenance": []
  },
  "kernelspec": {
   "display_name": "Python 3",
   "language": "python",
   "name": "python3"
  },
  "language_info": {
   "codemirror_mode": {
    "name": "ipython",
    "version": 3
   },
   "file_extension": ".py",
   "mimetype": "text/x-python",
   "name": "python",
   "nbconvert_exporter": "python",
   "pygments_lexer": "ipython3",
   "version": "3.7.6"
  }
 },
 "nbformat": 4,
 "nbformat_minor": 4
}
